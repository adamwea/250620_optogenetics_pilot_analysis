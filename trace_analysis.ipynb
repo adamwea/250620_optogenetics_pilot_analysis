{
 "cells": [
  {
   "cell_type": "code",
   "execution_count": 37,
   "id": "21976e2c",
   "metadata": {},
   "outputs": [
    {
     "name": "stdout",
     "output_type": "stream",
     "text": [
      "The autoreload extension is already loaded. To reload it, use:\n",
      "  %reload_ext autoreload\n"
     ]
    }
   ],
   "source": [
    "''' Set up for Jupyter Notebook to automatically reload modules before executing code - easier debugging and development '''\n",
    "%load_ext autoreload\n",
    "%autoreload 2"
   ]
  },
  {
   "cell_type": "code",
   "execution_count": 38,
   "id": "90c1b71a",
   "metadata": {},
   "outputs": [],
   "source": [
    "import matplotlib.pyplot as plt\n",
    "import numpy as np\n",
    "import spikeinterface.full as si\n",
    "from MEA_Analysis.MEAProcessingLibrary import mea_processing_library as mea\n",
    "import os\n",
    "\n",
    "\n",
    "def plot_traces_with_spikes_per_well(\n",
    "    h5_file_path: str,\n",
    "    sorted_output_dir: str,\n",
    "    analyzer_output_dir: str,\n",
    "    well_id: str,\n",
    "    start_time: float = 0.0,\n",
    "    duration: float = 1.0,\n",
    "    max_channels: int = 64,\n",
    "):\n",
    "    \"\"\"\n",
    "    Plot raw traces overlaid with spikes for a specific well.\n",
    "    \n",
    "    Args:\n",
    "        h5_file_path (str): Path to the .h5 recording file.\n",
    "        sorted_output_dir (str): Path to the sorter output base directory.\n",
    "        analyzer_output_dir (str): Path to the analyzer output base directory.\n",
    "        well_id (str): The well ID (e.g., 'A1') to plot.\n",
    "        start_time (float): Start time (in seconds) for the trace.\n",
    "        duration (float): Duration (in seconds) of the trace window.\n",
    "        max_channels (int): Max number of channels to display.\n",
    "    \"\"\"\n",
    "    # --- Load recording dictionary ---\n",
    "    _, recordings, _, _ = mea.load_recordings(h5_file_path)\n",
    "    if well_id not in recordings:\n",
    "        print(f\"⚠️ Well {well_id} not found in recording.\")\n",
    "        return\n",
    "    recording = recordings[well_id]\n",
    "    segment = recording[0]  # This is typically a single segment object\n",
    "\n",
    "    # --- Load SortingAnalyzer ---\n",
    "    sa_path = os.path.join(analyzer_output_dir, well_id)\n",
    "    if not os.path.exists(sa_path):\n",
    "        print(f\"⚠️ Analyzer directory for well {well_id} not found at: {sa_path}\")\n",
    "        return\n",
    "    sa = si.load_sorting_analyzer(sa_path)\n",
    "    sorting = sa.sorting\n",
    "    sampling_rate = segment.get_sampling_frequency()\n",
    "\n",
    "    # --- Define frame range ---\n",
    "    start_frame = int(start_time * sampling_rate)\n",
    "    end_frame = int((start_time + duration) * sampling_rate)\n",
    "    times = np.arange(start_frame, end_frame) / sampling_rate\n",
    "\n",
    "    # --- Load traces ---\n",
    "    traces = segment.get_traces(start_frame=start_frame, end_frame=end_frame)\n",
    "    num_channels = min(traces.shape[1], max_channels)\n",
    "    traces = traces[:, :num_channels]\n",
    "\n",
    "    # --- Get spike trains and best channels ---\n",
    "    unit_ids = sorting.get_unit_ids()\n",
    "    unit_spike_trains = {\n",
    "        unit: sorting.get_unit_spike_train(unit, start_frame=start_frame, end_frame=end_frame)\n",
    "        for unit in unit_ids\n",
    "    }\n",
    "    best_channels = {\n",
    "        unit: sa.get_best_channels(unit)[0] for unit in unit_ids\n",
    "    }\n",
    "\n",
    "    # --- Plot ---\n",
    "    plt.figure(figsize=(14, max(6, num_channels // 2)))\n",
    "    offset = 0\n",
    "    yticks = []\n",
    "\n",
    "    for ch in range(num_channels):\n",
    "        trace = traces[:, ch]\n",
    "        plt.plot(times, trace + offset, color='black', linewidth=0.5)\n",
    "\n",
    "        for unit_id, spike_frames in unit_spike_trains.items():\n",
    "            if best_channels[unit_id] == ch:\n",
    "                spike_times = spike_frames / sampling_rate\n",
    "                spike_amps = np.interp(spike_frames - start_frame, np.arange(len(trace)), trace) + offset\n",
    "                plt.scatter(spike_times, spike_amps, s=10, label=f'Unit {unit_id}' if ch == 0 else \"\")\n",
    "\n",
    "        yticks.append(offset)\n",
    "        offset += np.ptp(trace) * 1.2\n",
    "\n",
    "    plt.xlabel(\"Time (s)\")\n",
    "    plt.yticks(yticks, [f\"Ch {i}\" for i in range(num_channels)])\n",
    "    plt.title(f\"Raw Traces with Spikes for Well {well_id}\")\n",
    "    if unit_ids:\n",
    "        plt.legend(loc='upper right', fontsize='small')\n",
    "    plt.tight_layout()\n",
    "    plt.show()\n"
   ]
  },
  {
   "cell_type": "code",
   "execution_count": 39,
   "id": "14a3dae0",
   "metadata": {},
   "outputs": [],
   "source": [
    "REC_PATH = '/global/homes/a/adammwea/pscratch/z_raw_data/irc_maxone_desktop/media/harddrive8tb/CDKL5-R59X_MaxOnePlus_T1_05202025_PS/CDKL5-R59X_MaxOnePlus_T1_05202025_PS/250620/P002779/Network/000030/data.raw.h5'\n",
    "SORT_PATH = '/global/homes/a/adammwea/pscratch/z_analyzed_data/irc_maxone_desktop/media/harddrive8tb/CDKL5-R59X_MaxOnePlus_T1_05202025_PS/CDKL5-R59X_MaxOnePlus_T1_05202025_PS/250620/P002779/Network/000030/sorted/well000/sorter_output'\n",
    "ANALYZER_PATH = '/global/homes/a/adammwea/pscratch/z_analyzed_data/irc_maxone_desktop/media/harddrive8tb/CDKL5-R59X_MaxOnePlus_T1_05202025_PS/CDKL5-R59X_MaxOnePlus_T1_05202025_PS/250620/P002779/Network/000030/analyzer/'"
   ]
  },
  {
   "cell_type": "code",
   "execution_count": 41,
   "id": "768de953",
   "metadata": {},
   "outputs": [
    {
     "name": "stderr",
     "output_type": "stream",
     "text": [
      "2025-07-15 12:40:30,546 - INFO - Extracting recording details from h5 directories: - mea_processing_library.extract_recording_details\n",
      "2025-07-15 12:40:30,548 - INFO - Scan Type: Network - mea_processing_library.load_recordings\n",
      "2025-07-15 12:40:30,578 - INFO - MaxTwo Detected. - mea_processing_library.load_recordings\n",
      "2025-07-15 12:40:30,596 - DEBUG - Stream ID: well000, Recording: rec0000 loaded. - mea_processing_library.load_recordings\n"
     ]
    },
    {
     "name": "stdout",
     "output_type": "stream",
     "text": [
      "**********\n",
      "Maxwell file format is based on HDF5.\n",
      "The internal compression requires a custom plugin!!!\n",
      "This is a big pain for the end user.\n",
      "You, as a end user, should ask Maxwell company to change this.\n",
      "Please visit this page and install the missing decompression libraries:\n",
      "https://share.mxwbio.com/d/4742248b2e674a85be97/\n",
      "Then, link the decompression library by setting the `HDF5_PLUGIN_PATH` to your\n",
      "installation location, e.g. via\n",
      "os.environ['HDF5_PLUGIN_PATH'] = '/path/to/custom/hdf5/plugin/'\n",
      "\n",
      "Alternatively, you can use the auto_install_maxwell_hdf5_compression_plugin() below\n",
      "function that do it automagically.\n",
      "\n",
      "**********\n"
     ]
    },
    {
     "ename": "OSError",
     "evalue": "Can't synchronously read data (can't open directory (/usr/local/hdf5/lib/plugin). Please verify its existence)",
     "output_type": "error",
     "traceback": [
      "\u001b[0;31m---------------------------------------------------------------------------\u001b[0m",
      "\u001b[0;31mOSError\u001b[0m                                   Traceback (most recent call last)",
      "Cell \u001b[0;32mIn[41], line 1\u001b[0m\n\u001b[0;32m----> 1\u001b[0m \u001b[43mplot_traces_with_spikes_per_well\u001b[49m\u001b[43m(\u001b[49m\n\u001b[1;32m      2\u001b[0m \u001b[43m    \u001b[49m\u001b[38;5;66;43;03m# h5_file_path=\"/data/run123.h5\",\u001b[39;49;00m\n\u001b[1;32m      3\u001b[0m \u001b[43m    \u001b[49m\u001b[38;5;66;43;03m# sorted_output_dir=\"/data/sorted_output\",\u001b[39;49;00m\n\u001b[1;32m      4\u001b[0m \u001b[43m    \u001b[49m\u001b[38;5;66;43;03m# analyzer_output_dir=\"/data/analyzer_output\",\u001b[39;49;00m\n\u001b[1;32m      5\u001b[0m \u001b[43m    \u001b[49m\u001b[43mh5_file_path\u001b[49m\u001b[38;5;241;43m=\u001b[39;49m\u001b[43mREC_PATH\u001b[49m\u001b[43m,\u001b[49m\n\u001b[1;32m      6\u001b[0m \u001b[43m    \u001b[49m\u001b[43msorted_output_dir\u001b[49m\u001b[38;5;241;43m=\u001b[39;49m\u001b[43mSORT_PATH\u001b[49m\u001b[43m,\u001b[49m\n\u001b[1;32m      7\u001b[0m \u001b[43m    \u001b[49m\u001b[43manalyzer_output_dir\u001b[49m\u001b[38;5;241;43m=\u001b[39;49m\u001b[43mANALYZER_PATH\u001b[49m\u001b[43m,\u001b[49m\n\u001b[1;32m      8\u001b[0m \u001b[43m    \u001b[49m\u001b[43mwell_id\u001b[49m\u001b[38;5;241;43m=\u001b[39;49m\u001b[38;5;124;43m\"\u001b[39;49m\u001b[38;5;124;43mwell000\u001b[39;49m\u001b[38;5;124;43m\"\u001b[39;49m\u001b[43m,\u001b[49m\n\u001b[1;32m      9\u001b[0m \u001b[43m    \u001b[49m\u001b[43mstart_time\u001b[49m\u001b[38;5;241;43m=\u001b[39;49m\u001b[38;5;241;43m5.0\u001b[39;49m\u001b[43m,\u001b[49m\n\u001b[1;32m     10\u001b[0m \u001b[43m    \u001b[49m\u001b[43mduration\u001b[49m\u001b[38;5;241;43m=\u001b[39;49m\u001b[38;5;241;43m2.0\u001b[39;49m\u001b[43m,\u001b[49m\n\u001b[1;32m     11\u001b[0m \u001b[43m    \u001b[49m\u001b[43mmax_channels\u001b[49m\u001b[38;5;241;43m=\u001b[39;49m\u001b[38;5;241;43m48\u001b[39;49m\n\u001b[1;32m     12\u001b[0m \u001b[43m)\u001b[49m\n",
      "Cell \u001b[0;32mIn[38], line 52\u001b[0m, in \u001b[0;36mplot_traces_with_spikes_per_well\u001b[0;34m(h5_file_path, sorted_output_dir, analyzer_output_dir, well_id, start_time, duration, max_channels)\u001b[0m\n\u001b[1;32m     49\u001b[0m times \u001b[38;5;241m=\u001b[39m np\u001b[38;5;241m.\u001b[39marange(start_frame, end_frame) \u001b[38;5;241m/\u001b[39m sampling_rate\n\u001b[1;32m     51\u001b[0m \u001b[38;5;66;03m# --- Load traces ---\u001b[39;00m\n\u001b[0;32m---> 52\u001b[0m traces \u001b[38;5;241m=\u001b[39m \u001b[43msegment\u001b[49m\u001b[38;5;241;43m.\u001b[39;49m\u001b[43mget_traces\u001b[49m\u001b[43m(\u001b[49m\u001b[43mstart_frame\u001b[49m\u001b[38;5;241;43m=\u001b[39;49m\u001b[43mstart_frame\u001b[49m\u001b[43m,\u001b[49m\u001b[43m \u001b[49m\u001b[43mend_frame\u001b[49m\u001b[38;5;241;43m=\u001b[39;49m\u001b[43mend_frame\u001b[49m\u001b[43m)\u001b[49m\n\u001b[1;32m     53\u001b[0m num_channels \u001b[38;5;241m=\u001b[39m \u001b[38;5;28mmin\u001b[39m(traces\u001b[38;5;241m.\u001b[39mshape[\u001b[38;5;241m1\u001b[39m], max_channels)\n\u001b[1;32m     54\u001b[0m traces \u001b[38;5;241m=\u001b[39m traces[:, :num_channels]\n",
      "File \u001b[0;32m~/.conda/envs/my_mpi4py_env/lib/python3.10/site-packages/spikeinterface/core/baserecording.py:330\u001b[0m, in \u001b[0;36mBaseRecording.get_traces\u001b[0;34m(self, segment_index, start_frame, end_frame, channel_ids, order, return_scaled, cast_unsigned)\u001b[0m\n\u001b[1;32m    328\u001b[0m num_samples \u001b[38;5;241m=\u001b[39m rs\u001b[38;5;241m.\u001b[39mget_num_samples()\n\u001b[1;32m    329\u001b[0m end_frame \u001b[38;5;241m=\u001b[39m \u001b[38;5;28mint\u001b[39m(\u001b[38;5;28mmin\u001b[39m(end_frame, num_samples)) \u001b[38;5;28;01mif\u001b[39;00m end_frame \u001b[38;5;129;01mis\u001b[39;00m \u001b[38;5;129;01mnot\u001b[39;00m \u001b[38;5;28;01mNone\u001b[39;00m \u001b[38;5;28;01melse\u001b[39;00m num_samples\n\u001b[0;32m--> 330\u001b[0m traces \u001b[38;5;241m=\u001b[39m \u001b[43mrs\u001b[49m\u001b[38;5;241;43m.\u001b[39;49m\u001b[43mget_traces\u001b[49m\u001b[43m(\u001b[49m\u001b[43mstart_frame\u001b[49m\u001b[38;5;241;43m=\u001b[39;49m\u001b[43mstart_frame\u001b[49m\u001b[43m,\u001b[49m\u001b[43m \u001b[49m\u001b[43mend_frame\u001b[49m\u001b[38;5;241;43m=\u001b[39;49m\u001b[43mend_frame\u001b[49m\u001b[43m,\u001b[49m\u001b[43m \u001b[49m\u001b[43mchannel_indices\u001b[49m\u001b[38;5;241;43m=\u001b[39;49m\u001b[43mchannel_indices\u001b[49m\u001b[43m)\u001b[49m\n\u001b[1;32m    331\u001b[0m \u001b[38;5;28;01mif\u001b[39;00m order \u001b[38;5;129;01mis\u001b[39;00m \u001b[38;5;129;01mnot\u001b[39;00m \u001b[38;5;28;01mNone\u001b[39;00m:\n\u001b[1;32m    332\u001b[0m     \u001b[38;5;28;01massert\u001b[39;00m order \u001b[38;5;129;01min\u001b[39;00m [\u001b[38;5;124m\"\u001b[39m\u001b[38;5;124mC\u001b[39m\u001b[38;5;124m\"\u001b[39m, \u001b[38;5;124m\"\u001b[39m\u001b[38;5;124mF\u001b[39m\u001b[38;5;124m\"\u001b[39m]\n",
      "File \u001b[0;32m~/.conda/envs/my_mpi4py_env/lib/python3.10/site-packages/spikeinterface/extractors/neoextractors/neobaseextractor.py:367\u001b[0m, in \u001b[0;36mNeoRecordingSegment.get_traces\u001b[0;34m(self, start_frame, end_frame, channel_indices)\u001b[0m\n\u001b[1;32m    361\u001b[0m \u001b[38;5;28;01mdef\u001b[39;00m\u001b[38;5;250m \u001b[39m\u001b[38;5;21mget_traces\u001b[39m(\n\u001b[1;32m    362\u001b[0m     \u001b[38;5;28mself\u001b[39m,\n\u001b[1;32m    363\u001b[0m     start_frame: Union[\u001b[38;5;28mint\u001b[39m, \u001b[38;5;28;01mNone\u001b[39;00m] \u001b[38;5;241m=\u001b[39m \u001b[38;5;28;01mNone\u001b[39;00m,\n\u001b[1;32m    364\u001b[0m     end_frame: Union[\u001b[38;5;28mint\u001b[39m, \u001b[38;5;28;01mNone\u001b[39;00m] \u001b[38;5;241m=\u001b[39m \u001b[38;5;28;01mNone\u001b[39;00m,\n\u001b[1;32m    365\u001b[0m     channel_indices: Union[List, \u001b[38;5;28;01mNone\u001b[39;00m] \u001b[38;5;241m=\u001b[39m \u001b[38;5;28;01mNone\u001b[39;00m,\n\u001b[1;32m    366\u001b[0m ) \u001b[38;5;241m-\u001b[39m\u001b[38;5;241m>\u001b[39m np\u001b[38;5;241m.\u001b[39mndarray:\n\u001b[0;32m--> 367\u001b[0m     raw_traces \u001b[38;5;241m=\u001b[39m \u001b[38;5;28;43mself\u001b[39;49m\u001b[38;5;241;43m.\u001b[39;49m\u001b[43mneo_reader\u001b[49m\u001b[38;5;241;43m.\u001b[39;49m\u001b[43mget_analogsignal_chunk\u001b[49m\u001b[43m(\u001b[49m\n\u001b[1;32m    368\u001b[0m \u001b[43m        \u001b[49m\u001b[43mblock_index\u001b[49m\u001b[38;5;241;43m=\u001b[39;49m\u001b[38;5;28;43mself\u001b[39;49m\u001b[38;5;241;43m.\u001b[39;49m\u001b[43mblock_index\u001b[49m\u001b[43m,\u001b[49m\n\u001b[1;32m    369\u001b[0m \u001b[43m        \u001b[49m\u001b[43mseg_index\u001b[49m\u001b[38;5;241;43m=\u001b[39;49m\u001b[38;5;28;43mself\u001b[39;49m\u001b[38;5;241;43m.\u001b[39;49m\u001b[43msegment_index\u001b[49m\u001b[43m,\u001b[49m\n\u001b[1;32m    370\u001b[0m \u001b[43m        \u001b[49m\u001b[43mi_start\u001b[49m\u001b[38;5;241;43m=\u001b[39;49m\u001b[43mstart_frame\u001b[49m\u001b[43m,\u001b[49m\n\u001b[1;32m    371\u001b[0m \u001b[43m        \u001b[49m\u001b[43mi_stop\u001b[49m\u001b[38;5;241;43m=\u001b[39;49m\u001b[43mend_frame\u001b[49m\u001b[43m,\u001b[49m\n\u001b[1;32m    372\u001b[0m \u001b[43m        \u001b[49m\u001b[43mstream_index\u001b[49m\u001b[38;5;241;43m=\u001b[39;49m\u001b[38;5;28;43mself\u001b[39;49m\u001b[38;5;241;43m.\u001b[39;49m\u001b[43mstream_index\u001b[49m\u001b[43m,\u001b[49m\n\u001b[1;32m    373\u001b[0m \u001b[43m        \u001b[49m\u001b[43mchannel_indexes\u001b[49m\u001b[38;5;241;43m=\u001b[39;49m\u001b[43mchannel_indices\u001b[49m\u001b[43m,\u001b[49m\n\u001b[1;32m    374\u001b[0m \u001b[43m    \u001b[49m\u001b[43m)\u001b[49m\n\u001b[1;32m    375\u001b[0m     \u001b[38;5;28;01mif\u001b[39;00m \u001b[38;5;28mself\u001b[39m\u001b[38;5;241m.\u001b[39minverted_gain:\n\u001b[1;32m    376\u001b[0m         raw_traces \u001b[38;5;241m=\u001b[39m \u001b[38;5;241m-\u001b[39mraw_traces\n",
      "File \u001b[0;32m~/.conda/envs/my_mpi4py_env/lib/python3.10/site-packages/neo/rawio/baserawio.py:1006\u001b[0m, in \u001b[0;36mBaseRawIO.get_analogsignal_chunk\u001b[0;34m(self, block_index, seg_index, i_start, i_stop, stream_index, channel_indexes, channel_names, channel_ids, prefer_slice)\u001b[0m\n\u001b[1;32m   1003\u001b[0m     \u001b[38;5;28;01mif\u001b[39;00m np\u001b[38;5;241m.\u001b[39mall(np\u001b[38;5;241m.\u001b[39mdiff(channel_indexes) \u001b[38;5;241m==\u001b[39m \u001b[38;5;241m1\u001b[39m):\n\u001b[1;32m   1004\u001b[0m         channel_indexes \u001b[38;5;241m=\u001b[39m \u001b[38;5;28mslice\u001b[39m(channel_indexes[\u001b[38;5;241m0\u001b[39m], channel_indexes[\u001b[38;5;241m-\u001b[39m\u001b[38;5;241m1\u001b[39m] \u001b[38;5;241m+\u001b[39m \u001b[38;5;241m1\u001b[39m)\n\u001b[0;32m-> 1006\u001b[0m raw_chunk \u001b[38;5;241m=\u001b[39m \u001b[38;5;28;43mself\u001b[39;49m\u001b[38;5;241;43m.\u001b[39;49m\u001b[43m_get_analogsignal_chunk\u001b[49m\u001b[43m(\u001b[49m\u001b[43mblock_index\u001b[49m\u001b[43m,\u001b[49m\u001b[43m \u001b[49m\u001b[43mseg_index\u001b[49m\u001b[43m,\u001b[49m\u001b[43m \u001b[49m\u001b[43mi_start\u001b[49m\u001b[43m,\u001b[49m\u001b[43m \u001b[49m\u001b[43mi_stop\u001b[49m\u001b[43m,\u001b[49m\u001b[43m \u001b[49m\u001b[43mstream_index\u001b[49m\u001b[43m,\u001b[49m\u001b[43m \u001b[49m\u001b[43mchannel_indexes\u001b[49m\u001b[43m)\u001b[49m\n\u001b[1;32m   1008\u001b[0m \u001b[38;5;28;01mreturn\u001b[39;00m raw_chunk\n",
      "File \u001b[0;32m~/.conda/envs/my_mpi4py_env/lib/python3.10/site-packages/neo/rawio/maxwellrawio.py:242\u001b[0m, in \u001b[0;36mMaxwellRawIO._get_analogsignal_chunk\u001b[0;34m(self, block_index, seg_index, i_start, i_stop, stream_index, channel_indexes)\u001b[0m\n\u001b[1;32m    240\u001b[0m \u001b[38;5;28mprint\u001b[39m(_hdf_maxwell_error)\n\u001b[1;32m    241\u001b[0m \u001b[38;5;28mprint\u001b[39m(\u001b[38;5;124m\"\u001b[39m\u001b[38;5;124m*\u001b[39m\u001b[38;5;124m\"\u001b[39m \u001b[38;5;241m*\u001b[39m \u001b[38;5;241m10\u001b[39m)\n\u001b[0;32m--> 242\u001b[0m \u001b[38;5;28;01mraise\u001b[39;00m (e)\n",
      "File \u001b[0;32m~/.conda/envs/my_mpi4py_env/lib/python3.10/site-packages/neo/rawio/maxwellrawio.py:235\u001b[0m, in \u001b[0;36mMaxwellRawIO._get_analogsignal_chunk\u001b[0;34m(self, block_index, seg_index, i_start, i_stop, stream_index, channel_indexes)\u001b[0m\n\u001b[1;32m    233\u001b[0m \u001b[38;5;28;01mdef\u001b[39;00m\u001b[38;5;250m \u001b[39m\u001b[38;5;21m_get_analogsignal_chunk\u001b[39m(\u001b[38;5;28mself\u001b[39m, block_index, seg_index, i_start, i_stop, stream_index, channel_indexes):\n\u001b[1;32m    234\u001b[0m     \u001b[38;5;28;01mtry\u001b[39;00m:\n\u001b[0;32m--> 235\u001b[0m         \u001b[38;5;28;01mreturn\u001b[39;00m \u001b[38;5;28;43msuper\u001b[39;49m\u001b[43m(\u001b[49m\u001b[43m)\u001b[49m\u001b[38;5;241;43m.\u001b[39;49m\u001b[43m_get_analogsignal_chunk\u001b[49m\u001b[43m(\u001b[49m\n\u001b[1;32m    236\u001b[0m \u001b[43m            \u001b[49m\u001b[43mblock_index\u001b[49m\u001b[43m,\u001b[49m\u001b[43m \u001b[49m\u001b[43mseg_index\u001b[49m\u001b[43m,\u001b[49m\u001b[43m \u001b[49m\u001b[43mi_start\u001b[49m\u001b[43m,\u001b[49m\u001b[43m \u001b[49m\u001b[43mi_stop\u001b[49m\u001b[43m,\u001b[49m\u001b[43m \u001b[49m\u001b[43mstream_index\u001b[49m\u001b[43m,\u001b[49m\u001b[43m \u001b[49m\u001b[43mchannel_indexes\u001b[49m\n\u001b[1;32m    237\u001b[0m \u001b[43m        \u001b[49m\u001b[43m)\u001b[49m\n\u001b[1;32m    238\u001b[0m     \u001b[38;5;28;01mexcept\u001b[39;00m \u001b[38;5;167;01mOSError\u001b[39;00m \u001b[38;5;28;01mas\u001b[39;00m e:\n\u001b[1;32m    239\u001b[0m         \u001b[38;5;28mprint\u001b[39m(\u001b[38;5;124m\"\u001b[39m\u001b[38;5;124m*\u001b[39m\u001b[38;5;124m\"\u001b[39m \u001b[38;5;241m*\u001b[39m \u001b[38;5;241m10\u001b[39m)\n",
      "File \u001b[0;32m~/.conda/envs/my_mpi4py_env/lib/python3.10/site-packages/neo/rawio/baserawio.py:1654\u001b[0m, in \u001b[0;36mBaseRawWithBufferApiIO._get_analogsignal_chunk\u001b[0;34m(self, block_index, seg_index, i_start, i_stop, stream_index, channel_indexes)\u001b[0m\n\u001b[1;32m   1652\u001b[0m     raw_sigs \u001b[38;5;241m=\u001b[39m full_raw_sigs[i_start:i_stop, :]\n\u001b[1;32m   1653\u001b[0m \u001b[38;5;28;01melif\u001b[39;00m time_axis \u001b[38;5;241m==\u001b[39m \u001b[38;5;241m1\u001b[39m:\n\u001b[0;32m-> 1654\u001b[0m     raw_sigs \u001b[38;5;241m=\u001b[39m \u001b[43mfull_raw_sigs\u001b[49m\u001b[43m[\u001b[49m\u001b[43m:\u001b[49m\u001b[43m,\u001b[49m\u001b[43m \u001b[49m\u001b[43mi_start\u001b[49m\u001b[43m:\u001b[49m\u001b[43mi_stop\u001b[49m\u001b[43m]\u001b[49m\u001b[38;5;241m.\u001b[39mT\n\u001b[1;32m   1655\u001b[0m \u001b[38;5;28;01melse\u001b[39;00m:\n\u001b[1;32m   1656\u001b[0m     \u001b[38;5;28;01mraise\u001b[39;00m \u001b[38;5;167;01mRuntimeError\u001b[39;00m(\u001b[38;5;124m\"\u001b[39m\u001b[38;5;124mShould never happen\u001b[39m\u001b[38;5;124m\"\u001b[39m)\n",
      "File \u001b[0;32mh5py/_objects.pyx:54\u001b[0m, in \u001b[0;36mh5py._objects.with_phil.wrapper\u001b[0;34m()\u001b[0m\n",
      "File \u001b[0;32mh5py/_objects.pyx:55\u001b[0m, in \u001b[0;36mh5py._objects.with_phil.wrapper\u001b[0;34m()\u001b[0m\n",
      "File \u001b[0;32m~/.conda/envs/my_mpi4py_env/lib/python3.10/site-packages/h5py/_hl/dataset.py:802\u001b[0m, in \u001b[0;36mDataset.__getitem__\u001b[0;34m(self, args, new_dtype)\u001b[0m\n\u001b[1;32m    800\u001b[0m \u001b[38;5;28;01mif\u001b[39;00m \u001b[38;5;28mself\u001b[39m\u001b[38;5;241m.\u001b[39m_fast_read_ok \u001b[38;5;129;01mand\u001b[39;00m (new_dtype \u001b[38;5;129;01mis\u001b[39;00m \u001b[38;5;28;01mNone\u001b[39;00m):\n\u001b[1;32m    801\u001b[0m     \u001b[38;5;28;01mtry\u001b[39;00m:\n\u001b[0;32m--> 802\u001b[0m         \u001b[38;5;28;01mreturn\u001b[39;00m \u001b[38;5;28;43mself\u001b[39;49m\u001b[38;5;241;43m.\u001b[39;49m\u001b[43m_fast_reader\u001b[49m\u001b[38;5;241;43m.\u001b[39;49m\u001b[43mread\u001b[49m\u001b[43m(\u001b[49m\u001b[43margs\u001b[49m\u001b[43m)\u001b[49m\n\u001b[1;32m    803\u001b[0m     \u001b[38;5;28;01mexcept\u001b[39;00m \u001b[38;5;167;01mTypeError\u001b[39;00m:\n\u001b[1;32m    804\u001b[0m         \u001b[38;5;28;01mpass\u001b[39;00m  \u001b[38;5;66;03m# Fall back to Python read pathway below\u001b[39;00m\n",
      "File \u001b[0;32mh5py/_selector.pyx:376\u001b[0m, in \u001b[0;36mh5py._selector.Reader.read\u001b[0;34m()\u001b[0m\n",
      "\u001b[0;31mOSError\u001b[0m: Can't synchronously read data (can't open directory (/usr/local/hdf5/lib/plugin). Please verify its existence)"
     ]
    }
   ],
   "source": [
    "plot_traces_with_spikes_per_well(\n",
    "    # h5_file_path=\"/data/run123.h5\",\n",
    "    # sorted_output_dir=\"/data/sorted_output\",\n",
    "    # analyzer_output_dir=\"/data/analyzer_output\",\n",
    "    h5_file_path=REC_PATH,\n",
    "    sorted_output_dir=SORT_PATH,\n",
    "    analyzer_output_dir=ANALYZER_PATH,\n",
    "    well_id=\"well000\",\n",
    "    start_time=5.0,\n",
    "    duration=2.0,\n",
    "    max_channels=48\n",
    ")\n"
   ]
  }
 ],
 "metadata": {
  "kernelspec": {
   "display_name": "my_mpi4py_env",
   "language": "python",
   "name": "python3"
  },
  "language_info": {
   "codemirror_mode": {
    "name": "ipython",
    "version": 3
   },
   "file_extension": ".py",
   "mimetype": "text/x-python",
   "name": "python",
   "nbconvert_exporter": "python",
   "pygments_lexer": "ipython3",
   "version": "3.10.17"
  }
 },
 "nbformat": 4,
 "nbformat_minor": 5
}
